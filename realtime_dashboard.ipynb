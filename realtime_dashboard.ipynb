{
 "cells": [
  {
   "cell_type": "code",
   "execution_count": 5,
   "id": "settled-looking",
   "metadata": {},
   "outputs": [
    {
     "ename": "ModuleNotFoundError",
     "evalue": "No module named 'openweathermap_api_key'",
     "output_type": "error",
     "traceback": [
      "\u001b[1;31m---------------------------------------------------------------------------\u001b[0m",
      "\u001b[1;31mModuleNotFoundError\u001b[0m                       Traceback (most recent call last)",
      "Cell \u001b[1;32mIn[5], line 4\u001b[0m\n\u001b[0;32m      1\u001b[0m \u001b[38;5;66;03m# I saved my API key in a separate file and import the key here\u001b[39;00m\n\u001b[0;32m      2\u001b[0m \u001b[38;5;66;03m#Please comment out this line and define your API key as \u001b[39;00m\n\u001b[0;32m      3\u001b[0m openweathermap_api_key \u001b[38;5;241m=\u001b[39m \u001b[38;5;124m'\u001b[39m\u001b[38;5;124mb4e341ff68f1d642bde536c8577e31fe\u001b[39m\u001b[38;5;124m'\u001b[39m\n\u001b[1;32m----> 4\u001b[0m \u001b[38;5;28;01mfrom\u001b[39;00m \u001b[38;5;21;01mopenweathermap_api_key\u001b[39;00m \u001b[38;5;28;01mimport\u001b[39;00m openweathermap_api_key\n",
      "\u001b[1;31mModuleNotFoundError\u001b[0m: No module named 'openweathermap_api_key'"
     ]
    }
   ],
   "source": [
    "# I saved my API key in a separate file and import the key here\n",
    "#Please comment out this line and define your API key as \n",
    "openweathermap_api_key = 'b4e341ff68f1d642bde536c8577e31fe'\n",
    "from openweathermap_api_key import openweathermap_api_key"
   ]
  },
  {
   "cell_type": "code",
   "execution_count": null,
   "id": "editorial-mortality",
   "metadata": {},
   "outputs": [],
   "source": [
    "import operator as op\n",
    "import numpy as np\n",
    "import pandas as pd\n",
    "import requests\n",
    "import param\n",
    "import panel as pn\n",
    "import hvplot.pandas\n",
    "import hvplot.streamz\n",
    "import holoviews as hv\n",
    "from holoviews.element.tiles import EsriImagery\n",
    "from holoviews.selection import link_selections\n",
    "from datashader.utils import lnglat_to_meters\n",
    "from streamz.dataframe import PeriodicDataFrame"
   ]
  },
  {
   "cell_type": "code",
   "execution_count": null,
   "id": "brown-minnesota",
   "metadata": {},
   "outputs": [],
   "source": [
    "def weather_data(cities, openweathermap_api_key=openweathermap_api_key):\n",
    "    \"\"\"\n",
    "    Get weather data for a list of cities using the openweathermap API\n",
    "    \"\"\"\n",
    "    L = []\n",
    "    for c in cities:\n",
    "        res = requests.get(f'http://api.openweathermap.org/data/2.5/weather?q={c}&appid={openweathermap_api_key}&units=imperial')\n",
    "        L.append(res.json())\n",
    "\n",
    "    df = pd.DataFrame(L)\n",
    "    df['lon'] = df['coord'].map(op.itemgetter('lon'))\n",
    "    df['lat'] = df['coord'].map(op.itemgetter('lat'))\n",
    "    df['Temprature'] = df['main'].map(op.itemgetter('temp'))\n",
    "    df['Humidity'] = df['main'].map(op.itemgetter('humidity'))\n",
    "    df['Wind Speed'] = df['wind'].map(op.itemgetter('speed'))\n",
    "    return df[['name','lon', 'lat','Temprature','Humidity','Wind Speed']]"
   ]
  },
  {
   "cell_type": "code",
   "execution_count": null,
   "id": "permanent-theater",
   "metadata": {},
   "outputs": [],
   "source": [
    "# REAL TIME \n",
    "def streaming_weather_data(**kwargs):\n",
    "    \"\"\"\n",
    "    callback function \n",
    "    get San Francisco weather data \n",
    "    \"\"\"\n",
    "    df = weather_data(['San Francisco'])\n",
    "    df['time'] = [pd.Timestamp.now()]\n",
    "    return df.set_index('time')\n",
    "\n",
    "# Make a streaming dataframe \n",
    "df = PeriodicDataFrame(streaming_weather_data, interval='30s')\n",
    "# panel dashboard for streaming data \n",
    "pn_realtime = pn.Column(\n",
    "    pn.Row(\n",
    "        df[['Temprature']].hvplot.line(title='Temprature', backlog=1000),\n",
    "        df[['Humidity']].hvplot.line(title='Humidity', backlog=1000)),\n",
    "    df[['Wind Speed']].hvplot.line(title='Wind Speed', backlog=1000)\n",
    ")"
   ]
  },
  {
   "cell_type": "code",
   "execution_count": null,
   "id": "adult-buffer",
   "metadata": {},
   "outputs": [],
   "source": [
    "pn_realtime"
   ]
  },
  {
   "cell_type": "code",
   "execution_count": null,
   "id": "first-auckland",
   "metadata": {},
   "outputs": [],
   "source": [
    "cities = ['San Francisco', 'Los Angeles', 'Santa Barbara', 'Sacramento', 'Fresno','San Diego', 'San Luis Obispo']\n",
    "\n",
    "def weather_plot(col, cities=cities):\n",
    "    \"\"\"\n",
    "    plot weather data on a map \n",
    "    col: 'Temprature', 'Humidity', 'Wind Speed'\n",
    "    \"\"\"\n",
    "    df = weather_data(cities)\n",
    "    df['x'], df['y'] = lnglat_to_meters(df['lon'], df['lat'])\n",
    "    table = hv.Table(df[['name', col]]).opts(width=800)\n",
    "    points = df.hvplot.scatter('x','y', c=col, cmap='bkr', hover_cols=['name'])\n",
    "    map_tiles  = EsriImagery().opts(alpha=0.5, width=900, height=480, bgcolor='white')\n",
    "    return  pn.Column(points * map_tiles, table)\n",
    "    "
   ]
  },
  {
   "cell_type": "code",
   "execution_count": null,
   "id": "arabic-dress",
   "metadata": {},
   "outputs": [],
   "source": [
    "weather_plot(col='Temprature')"
   ]
  },
  {
   "cell_type": "code",
   "execution_count": null,
   "id": "french-sculpture",
   "metadata": {},
   "outputs": [],
   "source": [
    "# REFRESH\n",
    "class refresh_weather_dashboard(param.Parameterized):\n",
    "    action = param.Action(lambda x: x.param.trigger('action'), label='Refresh')\n",
    "    select_column = param.ObjectSelector(default='Temprature', objects=['Temprature', 'Humidity', 'Wind Speed'])\n",
    "\n",
    "       \n",
    "    @param.depends('action', 'select_column')\n",
    "    def get_plot(self):\n",
    "        return weather_plot(self.select_column)\n",
    "\n",
    "    \n",
    "weather_dashboard = refresh_weather_dashboard()\n",
    "\n",
    "pn_weather = pn.Column(\n",
    "       pn.panel(weather_dashboard.param, show_labels=True, show_name=False, margin=0),\n",
    "       weather_dashboard.get_plot, width=400\n",
    ")"
   ]
  },
  {
   "cell_type": "code",
   "execution_count": null,
   "id": "focal-forty",
   "metadata": {
    "lines_to_next_cell": 0
   },
   "outputs": [],
   "source": [
    "# COMBINE TWO DASHBOARDS\n",
    "pane = pn.Tabs(\n",
    "    ('Real Time', pn_realtime),\n",
    "    ('Refresh Weather Dashboard', pn_weather)\n",
    "    ).servable()\n",
    "\n",
    "pane"
   ]
  },
  {
   "cell_type": "code",
   "execution_count": null,
   "id": "trying-antibody",
   "metadata": {},
   "outputs": [],
   "source": []
  },
  {
   "cell_type": "code",
   "execution_count": null,
   "id": "proved-archives",
   "metadata": {
    "lines_to_next_cell": 2
   },
   "outputs": [],
   "source": []
  }
 ],
 "metadata": {
  "jupytext": {
   "formats": "ipynb,py:light"
  },
  "kernelspec": {
   "display_name": "Python 3 (ipykernel)",
   "language": "python",
   "name": "python3"
  },
  "language_info": {
   "codemirror_mode": {
    "name": "ipython",
    "version": 3
   },
   "file_extension": ".py",
   "mimetype": "text/x-python",
   "name": "python",
   "nbconvert_exporter": "python",
   "pygments_lexer": "ipython3",
   "version": "3.11.7"
  }
 },
 "nbformat": 4,
 "nbformat_minor": 5
}
